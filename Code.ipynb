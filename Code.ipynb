{
 "cells": [
  {
   "cell_type": "code",
   "execution_count": 2,
   "id": "fe8df59a",
   "metadata": {},
   "outputs": [],
   "source": [
    "import numpy as np\n",
    "import pandas as pd\n",
    "import seaborn as sns\n",
    "import matplotlib.pyplot as plt"
   ]
  },
  {
   "cell_type": "code",
   "execution_count": 1,
   "id": "1838c0d6",
   "metadata": {},
   "outputs": [],
   "source": [
    "from sklearn.model_selection import train_test_split\n",
    "from sklearn.metrics import accuracy_score\n",
    "from sklearn.preprocessing import StandardScaler\n",
    "from sklearn.linear_model import LogisticRegression\n",
    "from sklearn.svm import SVC\n",
    "from sklearn.tree import DecisionTreeClassifier\n",
    "from sklearn.ensemble import RandomForestClassifier, GradientBoostingClassifier\n",
    "from sklearn.model_selection import GridSearchCV\n",
    "from tensorflow.keras.models import Sequential\n",
    "from tensorflow.keras.layers import Dense\n",
    "from tensorflow.keras.optimizers import Adam"
   ]
  },
  {
   "cell_type": "code",
   "execution_count": 6,
   "id": "18b2c3fa",
   "metadata": {},
   "outputs": [],
   "source": [
    "import warnings\n",
    "warnings.filterwarnings(\"ignore\")"
   ]
  },
  {
   "cell_type": "code",
   "execution_count": 7,
   "id": "acc10afc",
   "metadata": {},
   "outputs": [],
   "source": [
    "train = pd.read_csv(\"C:/Users/VIVOBOOK/Desktop/Python/TITANIC/titanic/train.csv\")\n",
    "test = pd.read_csv(\"C:/Users/VIVOBOOK/Desktop/Python/TITANIC/titanic/test.csv\")"
   ]
  },
  {
   "cell_type": "code",
   "execution_count": 8,
   "id": "02e77890",
   "metadata": {},
   "outputs": [
    {
     "name": "stdout",
     "output_type": "stream",
     "text": [
      "TRAIN\n",
      "\n",
      "Number of unique values in the column PassengerId = 891\n",
      "Number of unique values in the column Survived = 2\n",
      "Number of unique values in the column Pclass = 3\n",
      "Number of unique values in the column Name = 891\n",
      "Number of unique values in the column Sex = 2\n",
      "Number of unique values in the column Age = 88\n",
      "Number of unique values in the column SibSp = 7\n",
      "Number of unique values in the column Parch = 7\n",
      "Number of unique values in the column Ticket = 681\n",
      "Number of unique values in the column Fare = 248\n",
      "Number of unique values in the column Cabin = 147\n",
      "Number of unique values in the column Embarked = 3\n"
     ]
    }
   ],
   "source": [
    "print(\"TRAIN\\n\")\n",
    "for col in train.columns:\n",
    "    print(f\"Number of unique values in the column {col} = {train[col].nunique()}\")"
   ]
  },
  {
   "cell_type": "code",
   "execution_count": 9,
   "id": "9b787638",
   "metadata": {},
   "outputs": [],
   "source": [
    "categorical_columns = ['Pclass','Sex','SibSp','Parch','Embarked']"
   ]
  },
  {
   "cell_type": "code",
   "execution_count": 10,
   "id": "dfe4b6c3",
   "metadata": {},
   "outputs": [
    {
     "name": "stdout",
     "output_type": "stream",
     "text": [
      "TRAIN : CATEGORICAL DATA\n",
      "\n",
      "Unique values in Pclass are = [3 1 2]\n",
      "Unique values in Sex are = ['male' 'female']\n",
      "Unique values in SibSp are = [1 0 3 4 2 5 8]\n",
      "Unique values in Parch are = [0 1 2 5 3 4 6]\n",
      "Unique values in Embarked are = ['S' 'C' 'Q' nan]\n",
      "Unique values in Survived are = [0 1]\n"
     ]
    }
   ],
   "source": [
    "print(\"TRAIN : CATEGORICAL DATA\\n\")\n",
    "for col in categorical_columns:\n",
    "    print(f\"Unique values in {col} are = {train[col].unique()}\")\n",
    "print(f\"Unique values in Survived are = {train.Survived.unique()}\")"
   ]
  },
  {
   "cell_type": "markdown",
   "id": "4d6ccb46",
   "metadata": {},
   "source": [
    "# Dealing with missing values"
   ]
  },
  {
   "cell_type": "code",
   "execution_count": 11,
   "id": "b8dd807f",
   "metadata": {},
   "outputs": [
    {
     "data": {
      "text/plain": [
       "PassengerId      0\n",
       "Survived         0\n",
       "Pclass           0\n",
       "Name             0\n",
       "Sex              0\n",
       "Age            177\n",
       "SibSp            0\n",
       "Parch            0\n",
       "Ticket           0\n",
       "Fare             0\n",
       "Cabin          687\n",
       "Embarked         2\n",
       "dtype: int64"
      ]
     },
     "execution_count": 11,
     "metadata": {},
     "output_type": "execute_result"
    }
   ],
   "source": [
    "train.isnull().sum()"
   ]
  },
  {
   "cell_type": "code",
   "execution_count": 12,
   "id": "07c4d632",
   "metadata": {},
   "outputs": [],
   "source": [
    "# This part fills missing values (NaN) in the 'Embarked' column with the first mode of that column. \n",
    "# The mode is the most frequently occurring value. \n",
    "train['Embarked']=train.Embarked.fillna(train.Embarked.mode()[0])"
   ]
  },
  {
   "cell_type": "code",
   "execution_count": 13,
   "id": "94a0e1e5",
   "metadata": {},
   "outputs": [],
   "source": [
    "# The number of NAN in the column \"Cabin\" is too high so we drop the whole column.\n",
    "train.drop('Cabin',axis=1,inplace=True)"
   ]
  },
  {
   "cell_type": "code",
   "execution_count": 14,
   "id": "871f243b",
   "metadata": {},
   "outputs": [],
   "source": [
    "test.drop('Cabin',axis=1,inplace=True)"
   ]
  },
  {
   "cell_type": "code",
   "execution_count": 15,
   "id": "5fa3c01a",
   "metadata": {},
   "outputs": [
    {
     "data": {
      "text/plain": [
       "PassengerId      0\n",
       "Survived         0\n",
       "Pclass           0\n",
       "Name             0\n",
       "Sex              0\n",
       "Age            177\n",
       "SibSp            0\n",
       "Parch            0\n",
       "Ticket           0\n",
       "Fare             0\n",
       "Embarked         0\n",
       "dtype: int64"
      ]
     },
     "execution_count": 15,
     "metadata": {},
     "output_type": "execute_result"
    }
   ],
   "source": [
    "train.isnull().sum()"
   ]
  },
  {
   "cell_type": "raw",
   "id": "b0aff626",
   "metadata": {},
   "source": [
    "The number of missing values \"Age\" column is neither too high (like the \"cabin\" column) nor too low (like the \"embarked\" column) we need to find some other way. One way is to treat the column like a target and predict the missing values by ML modelling. \n",
    "first, let's improve our existing data:"
   ]
  },
  {
   "cell_type": "markdown",
   "id": "b0975368",
   "metadata": {},
   "source": [
    "PassengerId and Ticket column do not contain any important information. So let's drop them"
   ]
  },
  {
   "cell_type": "code",
   "execution_count": 16,
   "id": "4c2977a3",
   "metadata": {},
   "outputs": [],
   "source": [
    "train.drop([\"PassengerId\",'Ticket'],axis=1,inplace=True)"
   ]
  },
  {
   "cell_type": "code",
   "execution_count": 17,
   "id": "1addbd68",
   "metadata": {},
   "outputs": [],
   "source": [
    "test.drop('Ticket',axis=1,inplace=True)"
   ]
  },
  {
   "cell_type": "markdown",
   "id": "ab21ca4c",
   "metadata": {},
   "source": [
    "# Exploratory Data Analysis (EDA)"
   ]
  },
  {
   "cell_type": "code",
   "execution_count": 18,
   "id": "5ffc6d68",
   "metadata": {},
   "outputs": [
    {
     "data": {
      "text/plain": [
       "Survived      int64\n",
       "Pclass        int64\n",
       "Name         object\n",
       "Sex          object\n",
       "Age         float64\n",
       "SibSp         int64\n",
       "Parch         int64\n",
       "Fare        float64\n",
       "Embarked     object\n",
       "dtype: object"
      ]
     },
     "execution_count": 18,
     "metadata": {},
     "output_type": "execute_result"
    }
   ],
   "source": [
    "train.dtypes"
   ]
  },
  {
   "cell_type": "code",
   "execution_count": 19,
   "id": "d97b7303",
   "metadata": {},
   "outputs": [
    {
     "data": {
      "text/plain": [
       "PassengerId      int64\n",
       "Pclass           int64\n",
       "Name            object\n",
       "Sex             object\n",
       "Age            float64\n",
       "SibSp            int64\n",
       "Parch            int64\n",
       "Fare           float64\n",
       "Embarked        object\n",
       "dtype: object"
      ]
     },
     "execution_count": 19,
     "metadata": {},
     "output_type": "execute_result"
    }
   ],
   "source": [
    "test.dtypes"
   ]
  },
  {
   "cell_type": "markdown",
   "id": "34cd80a6",
   "metadata": {},
   "source": [
    "Encoding categorical columns sex and embarked (Data Normalization)"
   ]
  },
  {
   "cell_type": "code",
   "execution_count": 20,
   "id": "4d59877b",
   "metadata": {},
   "outputs": [],
   "source": [
    "train['Sex'] = train.Sex.map({'male': 1, 'female': 0})\n",
    "train['Embarked'] = train.Embarked.map({'S':1,'C':2, 'Q':3})\n",
    "test['Sex'] = test.Sex.map({'male': 1, 'female': 0})\n",
    "test['Embarked'] = test.Embarked.map({'S':1,'C':2, 'Q':3, np.nan:0})"
   ]
  },
  {
   "cell_type": "markdown",
   "id": "549006c6",
   "metadata": {},
   "source": [
    "Data Visualization"
   ]
  },
  {
   "cell_type": "code",
   "execution_count": 21,
   "id": "7a0ce8e6",
   "metadata": {},
   "outputs": [
    {
     "data": {
      "image/png": "[encoded data removed]",
      "text/plain": [
       "<Figure size 640x480 with 1 Axes>"
      ]
     },
     "metadata": {},
     "output_type": "display_data"
    },
    {
     "data": {
      "image/png": "[encoded data removed]",
      "text/plain": [
       "<Figure size 640x480 with 1 Axes>"
      ]
     },
     "metadata": {},
     "output_type": "display_data"
    },
    {
     "data": {
      "image/png": "[encoded data removed]",
      "text/plain": [
       "<Figure size 640x480 with 1 Axes>"
      ]
     },
     "metadata": {},
     "output_type": "display_data"
    },
    {
     "data": {
      "image/png": "[encoded data removed]",
      "text/plain": [
       "<Figure size 640x480 with 1 Axes>"
      ]
     },
     "metadata": {},
     "output_type": "display_data"
    },
    {
     "data": {
      "image/png": "[encoded data removed]",
      "text/plain": [
       "<Figure size 640x480 with 1 Axes>"
      ]
     },
     "metadata": {},
     "output_type": "display_data"
    }
   ],
   "source": [
    "for cols in categorical_columns:\n",
    "    sns.countplot(x=cols, hue='Survived', data=train)\n",
    "    plt.title(f'Train : {cols} vs Survived')\n",
    "    plt.xlabel(f'{cols}')\n",
    "    plt.ylabel('Count')\n",
    "    plt.show()"
   ]
  },
  {
   "cell_type": "code",
   "execution_count": 22,
   "id": "a35e08ae",
   "metadata": {},
   "outputs": [
    {
     "data": {
      "image/png": "[encoded data removed]",
      "text/plain": [
       "<Figure size 1000x600 with 1 Axes>"
      ]
     },
     "metadata": {},
     "output_type": "display_data"
    }
   ],
   "source": [
    "plt.figure(figsize=(10, 6))\n",
    "sns.histplot(train['Age'].dropna(), bins=30, kde=True)\n",
    "plt.title('Age Distribution')\n",
    "plt.show()"
   ]
  },
  {
   "cell_type": "code",
   "execution_count": 23,
   "id": "043bc222",
   "metadata": {},
   "outputs": [
    {
     "data": {
      "image/png": "[encoded data removed]",
      "text/plain": [
       "<Figure size 1000x600 with 1 Axes>"
      ]
     },
     "metadata": {},
     "output_type": "display_data"
    }
   ],
   "source": [
    "plt.figure(figsize=(10, 6))\n",
    "sns.histplot(train['Fare'], bins=30, kde=True)\n",
    "plt.title('Fare Distribution')\n",
    "plt.show()"
   ]
  },
  {
   "cell_type": "markdown",
   "id": "0adfdc37",
   "metadata": {},
   "source": [
    "Correlation matrix (relations between features)"
   ]
  },
  {
   "cell_type": "raw",
   "id": "5ca978aa",
   "metadata": {},
   "source": [
    "First, we gotta drop the Name feature"
   ]
  },
  {
   "cell_type": "code",
   "execution_count": 24,
   "id": "52df65f7",
   "metadata": {},
   "outputs": [],
   "source": [
    "df_for_corr = train.drop(['Name'],axis=1)\n",
    "corr_mat = df_for_corr.corr()"
   ]
  },
  {
   "cell_type": "code",
   "execution_count": 25,
   "id": "b909ae57",
   "metadata": {},
   "outputs": [
    {
     "data": {
      "image/png": "[encoded data removed]",
      "text/plain": [
       "<Figure size 1000x800 with 2 Axes>"
      ]
     },
     "metadata": {},
     "output_type": "display_data"
    }
   ],
   "source": [
    "plt.figure(figsize=(10, 8))\n",
    "sns.heatmap(corr_mat, annot=True, cmap='coolwarm', vmin=-1, vmax=1)\n",
    "plt.title('Correlation Matrix')\n",
    "plt.show()"
   ]
  },
  {
   "cell_type": "markdown",
   "id": "aef09f6c",
   "metadata": {},
   "source": [
    "# Age Feature Engineering"
   ]
  },
  {
   "cell_type": "raw",
   "id": "7b9a1863",
   "metadata": {},
   "source": [
    "we could devide age values into catgories, these categories will be based on people titles (Mr, Mrs, Ms.....)"
   ]
  },
  {
   "cell_type": "code",
   "execution_count": 26,
   "id": "5bc7839d",
   "metadata": {},
   "outputs": [
    {
     "data": {
      "text/plain": [
       "array(['Mr', 'Mrs', 'Miss', 'Master', 'Don', 'Rev', 'Dr', 'Mme', 'Ms',\n",
       "       'Major', 'Lady', 'Sir', 'Mlle', 'Col', 'Capt', 'Countess',\n",
       "       'Jonkheer'], dtype=object)"
      ]
     },
     "execution_count": 26,
     "metadata": {},
     "output_type": "execute_result"
    }
   ],
   "source": [
    "train['Initials'] = train['Name'].str.extract('([A-Za-z]+)\\.', expand=False)\n",
    "train.Initials.unique()"
   ]
  },
  {
   "cell_type": "code",
   "execution_count": 27,
   "id": "ce73c309",
   "metadata": {},
   "outputs": [
    {
     "data": {
      "text/plain": [
       "array(['Mr', 'Mrs', 'Miss', 'Master', 'Ms', 'Col', 'Rev', 'Dr', 'Dona'],\n",
       "      dtype=object)"
      ]
     },
     "execution_count": 27,
     "metadata": {},
     "output_type": "execute_result"
    }
   ],
   "source": [
    "test['Initials'] = test['Name'].str.extract('([A-Za-z]+)\\.', expand=False)\n",
    "test.Initials.unique()"
   ]
  },
  {
   "cell_type": "code",
   "execution_count": 28,
   "id": "fcbf5ea4",
   "metadata": {},
   "outputs": [],
   "source": [
    "title_mapping = {\n",
    "    'Mlle': 'Miss', 'Mme': 'Miss', 'Ms': 'Miss', 'Lady': 'Mrs',\n",
    "    'Countess': 'Mrs', 'Dr': 'Mr', 'Major': 'Mr', 'Capt': 'Mr',\n",
    "    'Sir': 'Mr', 'Don': 'Mr', 'Jonkheer': 'Other', 'Col': 'Other', 'Rev': 'Other' \n",
    "}\n",
    "train['Initials'] = train['Initials'].replace(title_mapping)"
   ]
  },
  {
   "cell_type": "code",
   "execution_count": 29,
   "id": "5a4df763",
   "metadata": {},
   "outputs": [],
   "source": [
    "test_title_mapping = {\n",
    "    'Ms': 'Miss', 'Dr': 'Mr', 'Col': 'Mr', 'Rev': 'Other', 'Dona': 'Other'\n",
    "}\n",
    "test['Initials'] = test['Initials'].replace(test_title_mapping)"
   ]
  },
  {
   "cell_type": "code",
   "execution_count": 30,
   "id": "87a69dcb",
   "metadata": {},
   "outputs": [
    {
     "data": {
      "text/plain": [
       "array(['Mr', 'Mrs', 'Miss', 'Master', 'Other'], dtype=object)"
      ]
     },
     "execution_count": 30,
     "metadata": {},
     "output_type": "execute_result"
    }
   ],
   "source": [
    "train.Initials.unique()"
   ]
  },
  {
   "cell_type": "code",
   "execution_count": 31,
   "id": "06ad9fe6",
   "metadata": {},
   "outputs": [
    {
     "data": {
      "text/plain": [
       "array(['Mr', 'Mrs', 'Miss', 'Master', 'Other'], dtype=object)"
      ]
     },
     "execution_count": 31,
     "metadata": {},
     "output_type": "execute_result"
    }
   ],
   "source": [
    "test.Initials.unique()"
   ]
  },
  {
   "cell_type": "code",
   "execution_count": 32,
   "id": "1a67642e",
   "metadata": {},
   "outputs": [
    {
     "data": {
      "text/plain": [
       "Initials\n",
       "Master     4.574167\n",
       "Miss      21.860000\n",
       "Mr        32.739609\n",
       "Mrs       35.981818\n",
       "Other     45.888889\n",
       "Name: Age, dtype: float64"
      ]
     },
     "execution_count": 32,
     "metadata": {},
     "output_type": "execute_result"
    }
   ],
   "source": [
    "train.groupby('Initials')['Age'].mean()"
   ]
  },
  {
   "cell_type": "code",
   "execution_count": 33,
   "id": "e377747a",
   "metadata": {},
   "outputs": [
    {
     "data": {
      "text/plain": [
       "Initials\n",
       "Master     7.406471\n",
       "Miss      21.774844\n",
       "Mr        32.306452\n",
       "Mrs       38.903226\n",
       "Other     36.666667\n",
       "Name: Age, dtype: float64"
      ]
     },
     "execution_count": 33,
     "metadata": {},
     "output_type": "execute_result"
    }
   ],
   "source": [
    "test.groupby('Initials')['Age'].mean()"
   ]
  },
  {
   "cell_type": "code",
   "execution_count": 34,
   "id": "a0bae980",
   "metadata": {},
   "outputs": [],
   "source": [
    "age_fill_values = {\n",
    "    'Mr': 33,\n",
    "    'Mrs': 36,\n",
    "    'Master': 5,\n",
    "    'Miss': 22,\n",
    "    'Other': 46\n",
    "}\n",
    "\n",
    "train['Age'] = train.apply(lambda row: age_fill_values[row['Initials']] if pd.isnull(row['Age']) else row['Age'], axis=1)"
   ]
  },
  {
   "cell_type": "code",
   "execution_count": 35,
   "id": "db98f3a3",
   "metadata": {},
   "outputs": [],
   "source": [
    "test_age_fill_values = {\n",
    "    'Mr': 33,\n",
    "    'Mrs': 39,\n",
    "    'Master': 7,\n",
    "    'Miss': 22,\n",
    "    'Other': 47\n",
    "}\n",
    "\n",
    "test['Age'] = test.apply(lambda row: age_fill_values[row['Initials']] if pd.isnull(row['Age']) else row['Age'], axis=1)"
   ]
  },
  {
   "cell_type": "code",
   "execution_count": 36,
   "id": "0ca958bb",
   "metadata": {},
   "outputs": [
    {
     "data": {
      "text/plain": [
       "Survived    0\n",
       "Pclass      0\n",
       "Name        0\n",
       "Sex         0\n",
       "Age         0\n",
       "SibSp       0\n",
       "Parch       0\n",
       "Fare        0\n",
       "Embarked    0\n",
       "Initials    0\n",
       "dtype: int64"
      ]
     },
     "execution_count": 36,
     "metadata": {},
     "output_type": "execute_result"
    }
   ],
   "source": [
    "train.isnull().sum()"
   ]
  },
  {
   "cell_type": "code",
   "execution_count": 37,
   "id": "1c2b78e1",
   "metadata": {},
   "outputs": [
    {
     "name": "stdout",
     "output_type": "stream",
     "text": [
      "count    891.000000\n",
      "mean      29.841942\n",
      "std       13.281525\n",
      "min        0.420000\n",
      "25%       22.000000\n",
      "50%       30.000000\n",
      "75%       36.000000\n",
      "max       80.000000\n",
      "Name: Age, dtype: float64\n"
     ]
    }
   ],
   "source": [
    "print(train.Age.describe())"
   ]
  },
  {
   "cell_type": "raw",
   "id": "50e4fe77",
   "metadata": {},
   "source": [
    "We can divide age into 8 classes, since it varies beyween 0.42 and 80 (Age column bining)"
   ]
  },
  {
   "cell_type": "code",
   "execution_count": 38,
   "id": "d82e3f30",
   "metadata": {},
   "outputs": [],
   "source": [
    "bins = [0, 10, 20, 30, 40, 50, 60, 70, 80,float('inf')]\n",
    "labels = [1, 2, 3, 4, 5, 6, 7, 8,9]\n",
    "\n",
    "train['Age_Group'] = pd.cut(train['Age'], bins=bins, labels=labels, right=True, include_lowest=True)\n",
    "\n",
    "train['Age_Group'] = train['Age_Group'].astype('Int64')"
   ]
  },
  {
   "cell_type": "code",
   "execution_count": 39,
   "id": "338cd421",
   "metadata": {},
   "outputs": [],
   "source": [
    "test['Age_Group'] = pd.cut(test['Age'], bins=bins, labels=labels, right=True, include_lowest=True)\n",
    "\n",
    "test['Age_Group'] = test['Age_Group'].astype('Int64')"
   ]
  },
  {
   "cell_type": "code",
   "execution_count": 40,
   "id": "6c3b7776",
   "metadata": {},
   "outputs": [
    {
     "data": {
      "text/plain": [
       "Survived     0\n",
       "Pclass       0\n",
       "Name         0\n",
       "Sex          0\n",
       "Age          0\n",
       "SibSp        0\n",
       "Parch        0\n",
       "Fare         0\n",
       "Embarked     0\n",
       "Initials     0\n",
       "Age_Group    0\n",
       "dtype: int64"
      ]
     },
     "execution_count": 40,
     "metadata": {},
     "output_type": "execute_result"
    }
   ],
   "source": [
    "train.isnull().sum()"
   ]
  },
  {
   "cell_type": "code",
   "execution_count": 41,
   "id": "af225b2d",
   "metadata": {},
   "outputs": [
    {
     "data": {
      "text/plain": [
       "PassengerId    0\n",
       "Pclass         0\n",
       "Name           0\n",
       "Sex            0\n",
       "Age            0\n",
       "SibSp          0\n",
       "Parch          0\n",
       "Fare           1\n",
       "Embarked       0\n",
       "Initials       0\n",
       "Age_Group      0\n",
       "dtype: int64"
      ]
     },
     "execution_count": 41,
     "metadata": {},
     "output_type": "execute_result"
    }
   ],
   "source": [
    "test.isnull().sum()"
   ]
  },
  {
   "cell_type": "code",
   "execution_count": 42,
   "id": "342f1b12",
   "metadata": {},
   "outputs": [],
   "source": [
    "test['Fare'] = test.Fare.fillna(test.Fare.mean())"
   ]
  },
  {
   "cell_type": "code",
   "execution_count": 43,
   "id": "fdd09a6b",
   "metadata": {},
   "outputs": [],
   "source": [
    "train[\"Total_family_size\"] = train.SibSp + train.Parch"
   ]
  },
  {
   "cell_type": "code",
   "execution_count": 44,
   "id": "3af1420a",
   "metadata": {},
   "outputs": [],
   "source": [
    "test[\"Total_family_size\"] = train.SibSp + train.Parch"
   ]
  },
  {
   "cell_type": "code",
   "execution_count": 45,
   "id": "d36f6c22",
   "metadata": {},
   "outputs": [
    {
     "data": {
      "text/html": [
       "<div>\n",
       "<style scoped>\n",
       "    .dataframe tbody tr th:only-of-type {\n",
       "        vertical-align: middle;\n",
       "    }\n",
       "\n",
       "    .dataframe tbody tr th {\n",
       "        vertical-align: top;\n",
       "    }\n",
       "\n",
       "    .dataframe thead th {\n",
       "        text-align: right;\n",
       "    }\n",
       "</style>\n",
       "<table border=\"1\" class=\"dataframe\">\n",
       "  <thead>\n",
       "    <tr style=\"text-align: right;\">\n",
       "      <th></th>\n",
       "      <th>Survived</th>\n",
       "      <th>Pclass</th>\n",
       "      <th>Name</th>\n",
       "      <th>Sex</th>\n",
       "      <th>Age</th>\n",
       "      <th>SibSp</th>\n",
       "      <th>Parch</th>\n",
       "      <th>Fare</th>\n",
       "      <th>Embarked</th>\n",
       "      <th>Initials</th>\n",
       "      <th>Age_Group</th>\n",
       "      <th>Total_family_size</th>\n",
       "    </tr>\n",
       "  </thead>\n",
       "  <tbody>\n",
       "    <tr>\n",
       "      <th>0</th>\n",
       "      <td>0</td>\n",
       "      <td>3</td>\n",
       "      <td>Braund, Mr. Owen Harris</td>\n",
       "      <td>1</td>\n",
       "      <td>22.0</td>\n",
       "      <td>1</td>\n",
       "      <td>0</td>\n",
       "      <td>7.2500</td>\n",
       "      <td>1</td>\n",
       "      <td>Mr</td>\n",
       "      <td>3</td>\n",
       "      <td>1</td>\n",
       "    </tr>\n",
       "    <tr>\n",
       "      <th>1</th>\n",
       "      <td>1</td>\n",
       "      <td>1</td>\n",
       "      <td>Cumings, Mrs. John Bradley (Florence Briggs Th...</td>\n",
       "      <td>0</td>\n",
       "      <td>38.0</td>\n",
       "      <td>1</td>\n",
       "      <td>0</td>\n",
       "      <td>71.2833</td>\n",
       "      <td>2</td>\n",
       "      <td>Mrs</td>\n",
       "      <td>4</td>\n",
       "      <td>1</td>\n",
       "    </tr>\n",
       "    <tr>\n",
       "      <th>2</th>\n",
       "      <td>1</td>\n",
       "      <td>3</td>\n",
       "      <td>Heikkinen, Miss. Laina</td>\n",
       "      <td>0</td>\n",
       "      <td>26.0</td>\n",
       "      <td>0</td>\n",
       "      <td>0</td>\n",
       "      <td>7.9250</td>\n",
       "      <td>1</td>\n",
       "      <td>Miss</td>\n",
       "      <td>3</td>\n",
       "      <td>0</td>\n",
       "    </tr>\n",
       "    <tr>\n",
       "      <th>3</th>\n",
       "      <td>1</td>\n",
       "      <td>1</td>\n",
       "      <td>Futrelle, Mrs. Jacques Heath (Lily May Peel)</td>\n",
       "      <td>0</td>\n",
       "      <td>35.0</td>\n",
       "      <td>1</td>\n",
       "      <td>0</td>\n",
       "      <td>53.1000</td>\n",
       "      <td>1</td>\n",
       "      <td>Mrs</td>\n",
       "      <td>4</td>\n",
       "      <td>1</td>\n",
       "    </tr>\n",
       "    <tr>\n",
       "      <th>4</th>\n",
       "      <td>0</td>\n",
       "      <td>3</td>\n",
       "      <td>Allen, Mr. William Henry</td>\n",
       "      <td>1</td>\n",
       "      <td>35.0</td>\n",
       "      <td>0</td>\n",
       "      <td>0</td>\n",
       "      <td>8.0500</td>\n",
       "      <td>1</td>\n",
       "      <td>Mr</td>\n",
       "      <td>4</td>\n",
       "      <td>0</td>\n",
       "    </tr>\n",
       "  </tbody>\n",
       "</table>\n",
       "</div>"
      ],
      "text/plain": [
       "   Survived  Pclass                                               Name  Sex  \\\n",
       "0         0       3                            Braund, Mr. Owen Harris    1   \n",
       "1         1       1  Cumings, Mrs. John Bradley (Florence Briggs Th...    0   \n",
       "2         1       3                             Heikkinen, Miss. Laina    0   \n",
       "3         1       1       Futrelle, Mrs. Jacques Heath (Lily May Peel)    0   \n",
       "4         0       3                           Allen, Mr. William Henry    1   \n",
       "\n",
       "    Age  SibSp  Parch     Fare  Embarked Initials  Age_Group  \\\n",
       "0  22.0      1      0   7.2500         1       Mr          3   \n",
       "1  38.0      1      0  71.2833         2      Mrs          4   \n",
       "2  26.0      0      0   7.9250         1     Miss          3   \n",
       "3  35.0      1      0  53.1000         1      Mrs          4   \n",
       "4  35.0      0      0   8.0500         1       Mr          4   \n",
       "\n",
       "   Total_family_size  \n",
       "0                  1  \n",
       "1                  1  \n",
       "2                  0  \n",
       "3                  1  \n",
       "4                  0  "
      ]
     },
     "execution_count": 45,
     "metadata": {},
     "output_type": "execute_result"
    }
   ],
   "source": [
    "train.head()"
   ]
  },
  {
   "cell_type": "code",
   "execution_count": 46,
   "id": "abe228a0",
   "metadata": {},
   "outputs": [
    {
     "data": {
      "text/html": [
       "<div>\n",
       "<style scoped>\n",
       "    .dataframe tbody tr th:only-of-type {\n",
       "        vertical-align: middle;\n",
       "    }\n",
       "\n",
       "    .dataframe tbody tr th {\n",
       "        vertical-align: top;\n",
       "    }\n",
       "\n",
       "    .dataframe thead th {\n",
       "        text-align: right;\n",
       "    }\n",
       "</style>\n",
       "<table border=\"1\" class=\"dataframe\">\n",
       "  <thead>\n",
       "    <tr style=\"text-align: right;\">\n",
       "      <th></th>\n",
       "      <th>PassengerId</th>\n",
       "      <th>Pclass</th>\n",
       "      <th>Name</th>\n",
       "      <th>Sex</th>\n",
       "      <th>Age</th>\n",
       "      <th>SibSp</th>\n",
       "      <th>Parch</th>\n",
       "      <th>Fare</th>\n",
       "      <th>Embarked</th>\n",
       "      <th>Initials</th>\n",
       "      <th>Age_Group</th>\n",
       "      <th>Total_family_size</th>\n",
       "    </tr>\n",
       "  </thead>\n",
       "  <tbody>\n",
       "    <tr>\n",
       "      <th>0</th>\n",
       "      <td>892</td>\n",
       "      <td>3</td>\n",
       "      <td>Kelly, Mr. James</td>\n",
       "      <td>1</td>\n",
       "      <td>34.5</td>\n",
       "      <td>0</td>\n",
       "      <td>0</td>\n",
       "      <td>7.8292</td>\n",
       "      <td>3</td>\n",
       "      <td>Mr</td>\n",
       "      <td>4</td>\n",
       "      <td>1</td>\n",
       "    </tr>\n",
       "    <tr>\n",
       "      <th>1</th>\n",
       "      <td>893</td>\n",
       "      <td>3</td>\n",
       "      <td>Wilkes, Mrs. James (Ellen Needs)</td>\n",
       "      <td>0</td>\n",
       "      <td>47.0</td>\n",
       "      <td>1</td>\n",
       "      <td>0</td>\n",
       "      <td>7.0000</td>\n",
       "      <td>1</td>\n",
       "      <td>Mrs</td>\n",
       "      <td>5</td>\n",
       "      <td>1</td>\n",
       "    </tr>\n",
       "    <tr>\n",
       "      <th>2</th>\n",
       "      <td>894</td>\n",
       "      <td>2</td>\n",
       "      <td>Myles, Mr. Thomas Francis</td>\n",
       "      <td>1</td>\n",
       "      <td>62.0</td>\n",
       "      <td>0</td>\n",
       "      <td>0</td>\n",
       "      <td>9.6875</td>\n",
       "      <td>3</td>\n",
       "      <td>Mr</td>\n",
       "      <td>7</td>\n",
       "      <td>0</td>\n",
       "    </tr>\n",
       "    <tr>\n",
       "      <th>3</th>\n",
       "      <td>895</td>\n",
       "      <td>3</td>\n",
       "      <td>Wirz, Mr. Albert</td>\n",
       "      <td>1</td>\n",
       "      <td>27.0</td>\n",
       "      <td>0</td>\n",
       "      <td>0</td>\n",
       "      <td>8.6625</td>\n",
       "      <td>1</td>\n",
       "      <td>Mr</td>\n",
       "      <td>3</td>\n",
       "      <td>1</td>\n",
       "    </tr>\n",
       "    <tr>\n",
       "      <th>4</th>\n",
       "      <td>896</td>\n",
       "      <td>3</td>\n",
       "      <td>Hirvonen, Mrs. Alexander (Helga E Lindqvist)</td>\n",
       "      <td>0</td>\n",
       "      <td>22.0</td>\n",
       "      <td>1</td>\n",
       "      <td>1</td>\n",
       "      <td>12.2875</td>\n",
       "      <td>1</td>\n",
       "      <td>Mrs</td>\n",
       "      <td>3</td>\n",
       "      <td>0</td>\n",
       "    </tr>\n",
       "  </tbody>\n",
       "</table>\n",
       "</div>"
      ],
      "text/plain": [
       "   PassengerId  Pclass                                          Name  Sex  \\\n",
       "0          892       3                              Kelly, Mr. James    1   \n",
       "1          893       3              Wilkes, Mrs. James (Ellen Needs)    0   \n",
       "2          894       2                     Myles, Mr. Thomas Francis    1   \n",
       "3          895       3                              Wirz, Mr. Albert    1   \n",
       "4          896       3  Hirvonen, Mrs. Alexander (Helga E Lindqvist)    0   \n",
       "\n",
       "    Age  SibSp  Parch     Fare  Embarked Initials  Age_Group  \\\n",
       "0  34.5      0      0   7.8292         3       Mr          4   \n",
       "1  47.0      1      0   7.0000         1      Mrs          5   \n",
       "2  62.0      0      0   9.6875         3       Mr          7   \n",
       "3  27.0      0      0   8.6625         1       Mr          3   \n",
       "4  22.0      1      1  12.2875         1      Mrs          3   \n",
       "\n",
       "   Total_family_size  \n",
       "0                  1  \n",
       "1                  1  \n",
       "2                  0  \n",
       "3                  1  \n",
       "4                  0  "
      ]
     },
     "execution_count": 46,
     "metadata": {},
     "output_type": "execute_result"
    }
   ],
   "source": [
    "test.head()"
   ]
  },
  {
   "cell_type": "code",
   "execution_count": 47,
   "id": "ee699755",
   "metadata": {},
   "outputs": [
    {
     "data": {
      "text/plain": [
       "array([ 1,  0,  4,  2,  6,  5,  3,  7, 10], dtype=int64)"
      ]
     },
     "execution_count": 47,
     "metadata": {},
     "output_type": "execute_result"
    }
   ],
   "source": [
    "train.Total_family_size.unique()"
   ]
  },
  {
   "cell_type": "code",
   "execution_count": 48,
   "id": "e787f074",
   "metadata": {},
   "outputs": [
    {
     "data": {
      "text/plain": [
       "array([ 1,  0,  4,  2,  6,  5,  3,  7, 10], dtype=int64)"
      ]
     },
     "execution_count": 48,
     "metadata": {},
     "output_type": "execute_result"
    }
   ],
   "source": [
    "test.Total_family_size.unique()"
   ]
  },
  {
   "cell_type": "code",
   "execution_count": 49,
   "id": "875ff709",
   "metadata": {},
   "outputs": [
    {
     "data": {
      "text/plain": [
       "array(['Mr', 'Mrs', 'Miss', 'Master', 'Other'], dtype=object)"
      ]
     },
     "execution_count": 49,
     "metadata": {},
     "output_type": "execute_result"
    }
   ],
   "source": [
    "train.Initials.unique()"
   ]
  },
  {
   "cell_type": "code",
   "execution_count": 50,
   "id": "34c1192e",
   "metadata": {},
   "outputs": [],
   "source": [
    "train['Initials'] = train.Initials.map({'Mr':1, 'Mrs':4, 'Miss':3, 'Master':2, 'Other':5})"
   ]
  },
  {
   "cell_type": "code",
   "execution_count": 51,
   "id": "bdd11bfa",
   "metadata": {},
   "outputs": [],
   "source": [
    "test['Initials'] = test.Initials.map({'Mr':1, 'Mrs':4, 'Miss':3, 'Master':2, 'Other':5})"
   ]
  },
  {
   "cell_type": "code",
   "execution_count": 52,
   "id": "53a4ab17",
   "metadata": {},
   "outputs": [],
   "source": [
    "df = train.drop('Name',axis=1)"
   ]
  },
  {
   "cell_type": "code",
   "execution_count": 53,
   "id": "14b893f9",
   "metadata": {},
   "outputs": [],
   "source": [
    "df_test = test.drop(['PassengerId','Name'],axis=1)"
   ]
  },
  {
   "cell_type": "code",
   "execution_count": 54,
   "id": "3a6ceb05",
   "metadata": {},
   "outputs": [
    {
     "data": {
      "text/html": [
       "<div>\n",
       "<style scoped>\n",
       "    .dataframe tbody tr th:only-of-type {\n",
       "        vertical-align: middle;\n",
       "    }\n",
       "\n",
       "    .dataframe tbody tr th {\n",
       "        vertical-align: top;\n",
       "    }\n",
       "\n",
       "    .dataframe thead th {\n",
       "        text-align: right;\n",
       "    }\n",
       "</style>\n",
       "<table border=\"1\" class=\"dataframe\">\n",
       "  <thead>\n",
       "    <tr style=\"text-align: right;\">\n",
       "      <th></th>\n",
       "      <th>Survived</th>\n",
       "      <th>Pclass</th>\n",
       "      <th>Sex</th>\n",
       "      <th>Age</th>\n",
       "      <th>SibSp</th>\n",
       "      <th>Parch</th>\n",
       "      <th>Fare</th>\n",
       "      <th>Embarked</th>\n",
       "      <th>Initials</th>\n",
       "      <th>Age_Group</th>\n",
       "      <th>Total_family_size</th>\n",
       "    </tr>\n",
       "  </thead>\n",
       "  <tbody>\n",
       "    <tr>\n",
       "      <th>0</th>\n",
       "      <td>0</td>\n",
       "      <td>3</td>\n",
       "      <td>1</td>\n",
       "      <td>22.0</td>\n",
       "      <td>1</td>\n",
       "      <td>0</td>\n",
       "      <td>7.2500</td>\n",
       "      <td>1</td>\n",
       "      <td>1</td>\n",
       "      <td>3</td>\n",
       "      <td>1</td>\n",
       "    </tr>\n",
       "    <tr>\n",
       "      <th>1</th>\n",
       "      <td>1</td>\n",
       "      <td>1</td>\n",
       "      <td>0</td>\n",
       "      <td>38.0</td>\n",
       "      <td>1</td>\n",
       "      <td>0</td>\n",
       "      <td>71.2833</td>\n",
       "      <td>2</td>\n",
       "      <td>4</td>\n",
       "      <td>4</td>\n",
       "      <td>1</td>\n",
       "    </tr>\n",
       "    <tr>\n",
       "      <th>2</th>\n",
       "      <td>1</td>\n",
       "      <td>3</td>\n",
       "      <td>0</td>\n",
       "      <td>26.0</td>\n",
       "      <td>0</td>\n",
       "      <td>0</td>\n",
       "      <td>7.9250</td>\n",
       "      <td>1</td>\n",
       "      <td>3</td>\n",
       "      <td>3</td>\n",
       "      <td>0</td>\n",
       "    </tr>\n",
       "    <tr>\n",
       "      <th>3</th>\n",
       "      <td>1</td>\n",
       "      <td>1</td>\n",
       "      <td>0</td>\n",
       "      <td>35.0</td>\n",
       "      <td>1</td>\n",
       "      <td>0</td>\n",
       "      <td>53.1000</td>\n",
       "      <td>1</td>\n",
       "      <td>4</td>\n",
       "      <td>4</td>\n",
       "      <td>1</td>\n",
       "    </tr>\n",
       "    <tr>\n",
       "      <th>4</th>\n",
       "      <td>0</td>\n",
       "      <td>3</td>\n",
       "      <td>1</td>\n",
       "      <td>35.0</td>\n",
       "      <td>0</td>\n",
       "      <td>0</td>\n",
       "      <td>8.0500</td>\n",
       "      <td>1</td>\n",
       "      <td>1</td>\n",
       "      <td>4</td>\n",
       "      <td>0</td>\n",
       "    </tr>\n",
       "  </tbody>\n",
       "</table>\n",
       "</div>"
      ],
      "text/plain": [
       "   Survived  Pclass  Sex   Age  SibSp  Parch     Fare  Embarked  Initials  \\\n",
       "0         0       3    1  22.0      1      0   7.2500         1         1   \n",
       "1         1       1    0  38.0      1      0  71.2833         2         4   \n",
       "2         1       3    0  26.0      0      0   7.9250         1         3   \n",
       "3         1       1    0  35.0      1      0  53.1000         1         4   \n",
       "4         0       3    1  35.0      0      0   8.0500         1         1   \n",
       "\n",
       "   Age_Group  Total_family_size  \n",
       "0          3                  1  \n",
       "1          4                  1  \n",
       "2          3                  0  \n",
       "3          4                  1  \n",
       "4          4                  0  "
      ]
     },
     "execution_count": 54,
     "metadata": {},
     "output_type": "execute_result"
    }
   ],
   "source": [
    "# Dataframe ready for testing\n",
    "df.head()"
   ]
  },
  {
   "cell_type": "markdown",
   "id": "fe9509cd",
   "metadata": {},
   "source": [
    "# Training and Testing"
   ]
  },
  {
   "cell_type": "code",
   "execution_count": 55,
   "id": "25d91e00",
   "metadata": {},
   "outputs": [],
   "source": [
    "X = df.drop('Survived',axis=1)\n",
    "y = df.Survived"
   ]
  },
  {
   "cell_type": "code",
   "execution_count": 56,
   "id": "636a36e1",
   "metadata": {},
   "outputs": [],
   "source": [
    "# Data standardization\n",
    "scaler = StandardScaler()\n",
    "X[['Age', 'SibSp', 'Parch', 'Fare', 'Age_Group', 'Total_family_size']] = scaler.fit_transform(\n",
    "    X[['Age', 'SibSp', 'Parch', 'Fare', 'Age_Group', 'Total_family_size']]\n",
    ")"
   ]
  },
  {
   "cell_type": "code",
   "execution_count": 57,
   "id": "69e1a596",
   "metadata": {},
   "outputs": [],
   "source": [
    "# Data splitting\n",
    "X_train, X_test, y_train, y_test = train_test_split(X, y, test_size=0.2, random_state=42)"
   ]
  },
  {
   "cell_type": "code",
   "execution_count": 58,
   "id": "9da09bd7",
   "metadata": {},
   "outputs": [
    {
     "name": "stdout",
     "output_type": "stream",
     "text": [
      "Accuracy: 0.7989\n"
     ]
    }
   ],
   "source": [
    "# Linear regression\n",
    "lr = LogisticRegression(max_iter=1000)\n",
    "lr.fit(X_train, y_train)\n",
    "lr_pred = lr.predict(X_test)\n",
    "print(f'Accuracy: {accuracy_score(y_test, lr_pred):.4f}')"
   ]
  },
  {
   "cell_type": "code",
   "execution_count": 59,
   "id": "67dfc7b2",
   "metadata": {},
   "outputs": [],
   "source": [
    "# Define the Parameter Grid\n",
    "param_grid = {\n",
    "    'penalty': ['l1', 'l2', 'elasticnet'], # Specifies the norm used in the penalization\n",
    "    'C': np.logspace(-4, 4, 20), # Inverse of regularization strength: smaller values specify stronger regularization (C= 1/λ)\n",
    "    'solver': ['lbfgs', 'liblinear', 'saga'] #  Specifies the algorithm to use in the optimization problem\n",
    "}\n",
    "\n",
    "#L1 sums the absolute values of the coefficients: λ∑|w i|)\n",
    "#L2 sums the squares of the coefficients: λ∑(w i)²)\n",
    "#elasticnet combines L1 and L2 norms (λ∑|w i| + λ∑(w i)²)\n",
    "# lbfgs: Supports L2 regularization\n",
    "# liblinear: Supports L1 and L2 regularization\n",
    "# saga: Supports L1, L2, and elasticnet regularization. Suitable for large datasets"
   ]
  },
  {
   "cell_type": "code",
   "execution_count": 60,
   "id": "57d2eab4",
   "metadata": {},
   "outputs": [],
   "source": [
    "# Create the GridSearchCV object\n",
    "grid_search_lr = GridSearchCV(estimator=LogisticRegression(max_iter=10000),\n",
    "                           param_grid=param_grid,\n",
    "                           scoring='accuracy',\n",
    "                           cv=3,  # 3-fold cross-validation\n",
    "                           verbose=0,  # Set to 0 for no verbosity\n",
    "                           n_jobs=-1)  # Use all available cores\n",
    "\n",
    "# estimator: The model to be tuned with max iterations=10000 (to allow sufficient iterations for convergence).\n",
    "# param_grid: The parameter grid defined earlier\n",
    "# scoring: The performance metric to evaluate the model is set to 'accuracy'\n",
    "# cv: Number of cross-validation folds is set to 3\n",
    "# verbose: means no messages are printed in the output\n",
    "# n_jobs: Number of jobs to run in parallel; -1 uses all available processors"
   ]
  },
  {
   "cell_type": "code",
   "execution_count": 61,
   "id": "6fda46d6",
   "metadata": {},
   "outputs": [
    {
     "data": {
      "text/plain": [
       "GridSearchCV(cv=3, estimator=LogisticRegression(max_iter=10000), n_jobs=-1,\n",
       "             param_grid={'C': array([1.00000000e-04, 2.63665090e-04, 6.95192796e-04, 1.83298071e-03,\n",
       "       4.83293024e-03, 1.27427499e-02, 3.35981829e-02, 8.85866790e-02,\n",
       "       2.33572147e-01, 6.15848211e-01, 1.62377674e+00, 4.28133240e+00,\n",
       "       1.12883789e+01, 2.97635144e+01, 7.84759970e+01, 2.06913808e+02,\n",
       "       5.45559478e+02, 1.43844989e+03, 3.79269019e+03, 1.00000000e+04]),\n",
       "                         'penalty': ['l1', 'l2', 'elasticnet'],\n",
       "                         'solver': ['lbfgs', 'liblinear', 'saga']},\n",
       "             scoring='accuracy')"
      ]
     },
     "execution_count": 61,
     "metadata": {},
     "output_type": "execute_result"
    }
   ],
   "source": [
    "# Fit the grid search to the data (performs the grid search by training the logistic regression model on \n",
    "#the training data (X_train, y_train) using different combinations of hyperparameters specified in the \n",
    "#param_grid. It evaluates each combination using 3-fold cross-validation and selects the combination with \n",
    "#the best accuracy.)\n",
    "grid_search_lr.fit(X_train, y_train)"
   ]
  },
  {
   "cell_type": "code",
   "execution_count": 62,
   "id": "65c90919",
   "metadata": {},
   "outputs": [
    {
     "name": "stdout",
     "output_type": "stream",
     "text": [
      "Best Parameters: {'C': 0.615848211066026, 'penalty': 'l2', 'solver': 'saga'}\n"
     ]
    }
   ],
   "source": [
    "# Get the best parameters\n",
    "best_params_lr = grid_search_lr.best_params_\n",
    "print(f'Best Parameters: {best_params_lr}')\n",
    "\n",
    "# Train the model with the best parameters\n",
    "best_model_lr = grid_search_lr.best_estimator_"
   ]
  },
  {
   "cell_type": "code",
   "execution_count": 63,
   "id": "ca73a784",
   "metadata": {},
   "outputs": [
    {
     "name": "stdout",
     "output_type": "stream",
     "text": [
      "Logistic Regression Model Accuracy: 0.7933\n"
     ]
    }
   ],
   "source": [
    "# Evaluate the model\n",
    "y_pred_lr = best_model_lr.predict(X_test)\n",
    "accuracy = accuracy_score(y_test, y_pred_lr)\n",
    "print(f'Logistic Regression Model Accuracy: {accuracy:.4f}')"
   ]
  },
  {
   "cell_type": "markdown",
   "id": "1bd01818",
   "metadata": {},
   "source": [
    "Support Vector Machine"
   ]
  },
  {
   "cell_type": "code",
   "execution_count": 64,
   "id": "e8bde7a8",
   "metadata": {},
   "outputs": [
    {
     "name": "stdout",
     "output_type": "stream",
     "text": [
      "SVM Accuracy: 0.7765\n"
     ]
    }
   ],
   "source": [
    "# The SVM algorithm identifies the optimal hyperplane that separates the data points into classes \n",
    "#while maximizing the margin\n",
    "\n",
    "# Initialize the SVM model\n",
    "svm_model = SVC(kernel='linear') # kernel='linear': Specifies that a linear kernel will be used to separate the data points\n",
    "svm_model.fit(X_train, y_train)\n",
    "svm_pred = svm_model.predict(X_test)\n",
    "print(f'SVM Accuracy: {accuracy_score(y_test, svm_pred):.4f}')"
   ]
  },
  {
   "cell_type": "code",
   "execution_count": 65,
   "id": "cd0c17b9",
   "metadata": {},
   "outputs": [],
   "source": [
    "# This grid will be used in a grid search to systematically work through multiple combinations of \n",
    "#hyperparameter values, cross-validate each combination, and determine the best combination for \n",
    "#the SVM model\n",
    "param_grid = {\n",
    "    'C': [0.1, 1, 10, 100],\n",
    "    'gamma': [1, 0.1, 0.01,],\n",
    "    'kernel': ['rbf', 'linear', 'poly', 'sigmoid']\n",
    "}\n",
    "\n",
    "# 'gamma': This parameter is specific to some kernel functions like Radial Basis Function (RBF) and \n",
    "#Polynomial kernels,it defines how far the influence of a single training example reaches \n",
    "#(High values of gamma: Indicates that a single training example has a close reach, resulting in more \n",
    "#complex models, and oppositly for low values of gamma)"
   ]
  },
  {
   "cell_type": "code",
   "execution_count": 66,
   "id": "9047914a",
   "metadata": {},
   "outputs": [
    {
     "name": "stdout",
     "output_type": "stream",
     "text": [
      "Fitting 3 folds for each of 48 candidates, totalling 144 fits\n",
      "Best Parameters: {'C': 100, 'gamma': 0.01, 'kernel': 'rbf'}\n",
      "SVM Model Accuracy: 0.8101\n"
     ]
    }
   ],
   "source": [
    "# Create the GridSearchCV object\n",
    "grid_search_svm = GridSearchCV(estimator=SVC(),\n",
    "                           param_grid=param_grid,\n",
    "                           scoring='accuracy',\n",
    "                           cv=3,  # 3-fold cross-validation\n",
    "                           verbose=1,  # Set to 0 for no verbosity\n",
    "                           n_jobs=-1)  # Use all available cores\n",
    "\n",
    "# Fit the grid search to the data\n",
    "grid_search_svm.fit(X_train, y_train)\n",
    "\n",
    "# Get the best parameters\n",
    "best_params_svm = grid_search_svm.best_params_\n",
    "print(f'Best Parameters: {best_params_svm}')\n",
    "\n",
    "# Train the model with the best parameters\n",
    "best_model_svm = grid_search_svm.best_estimator_\n",
    "\n",
    "# Evaluate the model\n",
    "y_pred_svm = best_model_svm.predict(X_test)\n",
    "accuracy = accuracy_score(y_test, y_pred_svm)\n",
    "print(f'SVM Model Accuracy: {accuracy:.4f}')"
   ]
  },
  {
   "cell_type": "markdown",
   "id": "29b3f534",
   "metadata": {},
   "source": [
    "DecisionTreeClassifier"
   ]
  },
  {
   "cell_type": "code",
   "execution_count": 67,
   "id": "c0055051",
   "metadata": {},
   "outputs": [
    {
     "name": "stdout",
     "output_type": "stream",
     "text": [
      "Decision Tree Accuracy: 0.8045\n"
     ]
    }
   ],
   "source": [
    "# Decision Tree\n",
    "dt_model = DecisionTreeClassifier()\n",
    "dt_model.fit(X_train, y_train)\n",
    "dt_pred = dt_model.predict(X_test)\n",
    "print(f'Decision Tree Accuracy: {accuracy_score(y_test, dt_pred):.4f}')"
   ]
  },
  {
   "cell_type": "markdown",
   "id": "338af1dd",
   "metadata": {},
   "source": [
    "RandomForestClassifier"
   ]
  },
  {
   "cell_type": "code",
   "execution_count": 68,
   "id": "ff30ac17",
   "metadata": {},
   "outputs": [
    {
     "name": "stdout",
     "output_type": "stream",
     "text": [
      "Random Forest Accuracy: 0.8380\n"
     ]
    }
   ],
   "source": [
    "# Random Forest classifier is an ensemble learning method that combines multiple decision trees to improve \n",
    "#the overall performance, robustness, and generalization ability of the model, it is used for both \n",
    "#classification and regression tasks\n",
    "rf_model = RandomForestClassifier(n_estimators=100) # A Random Forest classifier with 100 trees is created\n",
    "rf_model.fit(X_train, y_train)\n",
    "rf_pred = rf_model.predict(X_test)\n",
    "print(f'Random Forest Accuracy: {accuracy_score(y_test, rf_pred):.4f}')"
   ]
  },
  {
   "cell_type": "code",
   "execution_count": 69,
   "id": "10e23c12",
   "metadata": {},
   "outputs": [],
   "source": [
    "rf_param_grid = {\n",
    "    'n_estimators': [100, 300, 500], # specifies the number of trees \n",
    "    'max_depth': [None, 10, 30, 50], # specifies the maximum depth of each tree in the forest\n",
    "    'min_samples_split': [2, 5, 10], # specifies the minimum number of samples required to split an internal node\n",
    "    'min_samples_leaf': [2, 5] # specifies the minimum number of samples required to be at a leaf node.\n",
    "}"
   ]
  },
  {
   "cell_type": "code",
   "execution_count": 70,
   "id": "6bb840bf",
   "metadata": {},
   "outputs": [
    {
     "name": "stdout",
     "output_type": "stream",
     "text": [
      "Fitting 3 folds for each of 72 candidates, totalling 216 fits\n",
      "Best Parameters for RandomForestClassifier: {'max_depth': None, 'min_samples_leaf': 2, 'min_samples_split': 5, 'n_estimators': 300}\n",
      "RandomForestClassifier Accuracy: 0.8436\n"
     ]
    }
   ],
   "source": [
    "# Perform GridSearchCV for each model\n",
    "grid_search_rf = GridSearchCV(estimator=RandomForestClassifier(),\n",
    "                           param_grid=rf_param_grid,\n",
    "                           scoring='accuracy',\n",
    "                           cv=3,\n",
    "                           verbose=2,\n",
    "                           n_jobs=-1)\n",
    "\n",
    "# Fit the grid search to the data\n",
    "grid_search_rf.fit(X_train, y_train)\n",
    "\n",
    "# Get the best parameters\n",
    "best_params_rf = grid_search_rf.best_params_\n",
    "print(f'Best Parameters for RandomForestClassifier: {best_params_rf}')\n",
    "\n",
    "# Train the model with the best parameters\n",
    "best_model_rf = grid_search_rf.best_estimator_\n",
    "\n",
    "# Evaluate the model\n",
    "y_pred_rf = best_model_rf.predict(X_test)\n",
    "accuracy = accuracy_score(y_test, y_pred_rf)\n",
    "print(f'RandomForestClassifier Accuracy: {accuracy:.4f}')"
   ]
  },
  {
   "cell_type": "markdown",
   "id": "0b7ee1c9",
   "metadata": {},
   "source": [
    "NEURAL NETWORKS"
   ]
  },
  {
   "cell_type": "code",
   "execution_count": 71,
   "id": "7010b4fd",
   "metadata": {},
   "outputs": [
    {
     "name": "stdout",
     "output_type": "stream",
     "text": [
      "Epoch 1/10\n",
      "18/18 [==============================] - 1s 11ms/step - loss: 0.6304 - accuracy: 0.6274 - val_loss: 0.5021 - val_accuracy: 0.7832\n",
      "Epoch 2/10\n",
      "18/18 [==============================] - 0s 3ms/step - loss: 0.5095 - accuracy: 0.7926 - val_loss: 0.4401 - val_accuracy: 0.8462\n",
      "Epoch 3/10\n",
      "18/18 [==============================] - 0s 3ms/step - loss: 0.4759 - accuracy: 0.8014 - val_loss: 0.4101 - val_accuracy: 0.8392\n",
      "Epoch 4/10\n",
      "18/18 [==============================] - 0s 3ms/step - loss: 0.4613 - accuracy: 0.8049 - val_loss: 0.4026 - val_accuracy: 0.8392\n",
      "Epoch 5/10\n",
      "18/18 [==============================] - 0s 2ms/step - loss: 0.4537 - accuracy: 0.8067 - val_loss: 0.3993 - val_accuracy: 0.8322\n",
      "Epoch 6/10\n",
      "18/18 [==============================] - 0s 3ms/step - loss: 0.4490 - accuracy: 0.8120 - val_loss: 0.3949 - val_accuracy: 0.8392\n",
      "Epoch 7/10\n",
      "18/18 [==============================] - 0s 3ms/step - loss: 0.4453 - accuracy: 0.8137 - val_loss: 0.3965 - val_accuracy: 0.8322\n",
      "Epoch 8/10\n",
      "18/18 [==============================] - 0s 2ms/step - loss: 0.4393 - accuracy: 0.8067 - val_loss: 0.3932 - val_accuracy: 0.8462\n",
      "Epoch 9/10\n",
      "18/18 [==============================] - 0s 2ms/step - loss: 0.4359 - accuracy: 0.8172 - val_loss: 0.3920 - val_accuracy: 0.8531\n",
      "Epoch 10/10\n",
      "18/18 [==============================] - 0s 3ms/step - loss: 0.4316 - accuracy: 0.8207 - val_loss: 0.3897 - val_accuracy: 0.8531\n",
      "6/6 [==============================] - 0s 1ms/step\n",
      "Neural Network Accuracy: 0.7989\n"
     ]
    }
   ],
   "source": [
    "# Neural Network\n",
    "nn_model = Sequential()\n",
    "nn_model.add(Dense(64, input_dim=X_train.shape[1], activation='relu'))\n",
    "nn_model.add(Dense(32, activation='relu'))\n",
    "nn_model.add(Dense(1, activation='sigmoid'))\n",
    "\n",
    "# Compile model\n",
    "nn_model.compile(loss='binary_crossentropy', optimizer='adam', metrics=['accuracy'])\n",
    "\n",
    "# Fit model\n",
    "nn_model.fit(X_train, y_train, epochs=10, batch_size=32, verbose=1, validation_split=0.2)\n",
    "\n",
    "# Evaluate model\n",
    "nn_pred = nn_model.predict(X_test)\n",
    "nn_pred = (nn_pred > 0.5).astype(int)\n",
    "print(f'Neural Network Accuracy: {accuracy_score(y_test, nn_pred):.4f}')"
   ]
  },
  {
   "cell_type": "code",
   "execution_count": 72,
   "id": "63e1544c",
   "metadata": {},
   "outputs": [
    {
     "data": {
      "text/plain": [
       "LogisticRegression(max_iter=1000)"
      ]
     },
     "execution_count": 72,
     "metadata": {},
     "output_type": "execute_result"
    }
   ],
   "source": [
    "lr"
   ]
  },
  {
   "cell_type": "code",
   "execution_count": 73,
   "id": "72414859",
   "metadata": {},
   "outputs": [
    {
     "data": {
      "text/plain": [
       "SVC(C=100, gamma=0.01)"
      ]
     },
     "execution_count": 73,
     "metadata": {},
     "output_type": "execute_result"
    }
   ],
   "source": [
    "best_model_svm"
   ]
  },
  {
   "cell_type": "code",
   "execution_count": 74,
   "id": "381d9a3f",
   "metadata": {},
   "outputs": [
    {
     "data": {
      "text/plain": [
       "RandomForestClassifier(min_samples_leaf=2, min_samples_split=5,\n",
       "                       n_estimators=300)"
      ]
     },
     "execution_count": 74,
     "metadata": {},
     "output_type": "execute_result"
    }
   ],
   "source": [
    "best_model_rf"
   ]
  },
  {
   "cell_type": "code",
   "execution_count": 75,
   "id": "73c886c1",
   "metadata": {},
   "outputs": [
    {
     "name": "stdout",
     "output_type": "stream",
     "text": [
      "Model: \"sequential\"\n",
      "_________________________________________________________________\n",
      " Layer (type)                Output Shape              Param #   \n",
      "=================================================================\n",
      " dense (Dense)               (None, 64)                704       \n",
      "                                                                 \n",
      " dense_1 (Dense)             (None, 32)                2080      \n",
      "                                                                 \n",
      " dense_2 (Dense)             (None, 1)                 33        \n",
      "                                                                 \n",
      "=================================================================\n",
      "Total params: 2,817\n",
      "Trainable params: 2,817\n",
      "Non-trainable params: 0\n",
      "_________________________________________________________________\n"
     ]
    }
   ],
   "source": [
    "nn_model.summary()"
   ]
  },
  {
   "cell_type": "markdown",
   "id": "db8c4d97",
   "metadata": {},
   "source": [
    "Creating testing data"
   ]
  },
  {
   "cell_type": "code",
   "execution_count": 76,
   "id": "0c64a492",
   "metadata": {},
   "outputs": [
    {
     "data": {
      "text/html": [
       "<div>\n",
       "<style scoped>\n",
       "    .dataframe tbody tr th:only-of-type {\n",
       "        vertical-align: middle;\n",
       "    }\n",
       "\n",
       "    .dataframe tbody tr th {\n",
       "        vertical-align: top;\n",
       "    }\n",
       "\n",
       "    .dataframe thead th {\n",
       "        text-align: right;\n",
       "    }\n",
       "</style>\n",
       "<table border=\"1\" class=\"dataframe\">\n",
       "  <thead>\n",
       "    <tr style=\"text-align: right;\">\n",
       "      <th></th>\n",
       "      <th>Pclass</th>\n",
       "      <th>Sex</th>\n",
       "      <th>Age</th>\n",
       "      <th>SibSp</th>\n",
       "      <th>Parch</th>\n",
       "      <th>Fare</th>\n",
       "      <th>Embarked</th>\n",
       "      <th>Initials</th>\n",
       "      <th>Age_Group</th>\n",
       "      <th>Total_family_size</th>\n",
       "    </tr>\n",
       "  </thead>\n",
       "  <tbody>\n",
       "    <tr>\n",
       "      <th>0</th>\n",
       "      <td>3</td>\n",
       "      <td>1</td>\n",
       "      <td>34.5</td>\n",
       "      <td>0</td>\n",
       "      <td>0</td>\n",
       "      <td>7.8292</td>\n",
       "      <td>3</td>\n",
       "      <td>1</td>\n",
       "      <td>4</td>\n",
       "      <td>1</td>\n",
       "    </tr>\n",
       "    <tr>\n",
       "      <th>1</th>\n",
       "      <td>3</td>\n",
       "      <td>0</td>\n",
       "      <td>47.0</td>\n",
       "      <td>1</td>\n",
       "      <td>0</td>\n",
       "      <td>7.0000</td>\n",
       "      <td>1</td>\n",
       "      <td>4</td>\n",
       "      <td>5</td>\n",
       "      <td>1</td>\n",
       "    </tr>\n",
       "    <tr>\n",
       "      <th>2</th>\n",
       "      <td>2</td>\n",
       "      <td>1</td>\n",
       "      <td>62.0</td>\n",
       "      <td>0</td>\n",
       "      <td>0</td>\n",
       "      <td>9.6875</td>\n",
       "      <td>3</td>\n",
       "      <td>1</td>\n",
       "      <td>7</td>\n",
       "      <td>0</td>\n",
       "    </tr>\n",
       "    <tr>\n",
       "      <th>3</th>\n",
       "      <td>3</td>\n",
       "      <td>1</td>\n",
       "      <td>27.0</td>\n",
       "      <td>0</td>\n",
       "      <td>0</td>\n",
       "      <td>8.6625</td>\n",
       "      <td>1</td>\n",
       "      <td>1</td>\n",
       "      <td>3</td>\n",
       "      <td>1</td>\n",
       "    </tr>\n",
       "    <tr>\n",
       "      <th>4</th>\n",
       "      <td>3</td>\n",
       "      <td>0</td>\n",
       "      <td>22.0</td>\n",
       "      <td>1</td>\n",
       "      <td>1</td>\n",
       "      <td>12.2875</td>\n",
       "      <td>1</td>\n",
       "      <td>4</td>\n",
       "      <td>3</td>\n",
       "      <td>0</td>\n",
       "    </tr>\n",
       "    <tr>\n",
       "      <th>...</th>\n",
       "      <td>...</td>\n",
       "      <td>...</td>\n",
       "      <td>...</td>\n",
       "      <td>...</td>\n",
       "      <td>...</td>\n",
       "      <td>...</td>\n",
       "      <td>...</td>\n",
       "      <td>...</td>\n",
       "      <td>...</td>\n",
       "      <td>...</td>\n",
       "    </tr>\n",
       "    <tr>\n",
       "      <th>413</th>\n",
       "      <td>3</td>\n",
       "      <td>1</td>\n",
       "      <td>33.0</td>\n",
       "      <td>0</td>\n",
       "      <td>0</td>\n",
       "      <td>8.0500</td>\n",
       "      <td>1</td>\n",
       "      <td>1</td>\n",
       "      <td>4</td>\n",
       "      <td>0</td>\n",
       "    </tr>\n",
       "    <tr>\n",
       "      <th>414</th>\n",
       "      <td>1</td>\n",
       "      <td>0</td>\n",
       "      <td>39.0</td>\n",
       "      <td>0</td>\n",
       "      <td>0</td>\n",
       "      <td>108.9000</td>\n",
       "      <td>2</td>\n",
       "      <td>5</td>\n",
       "      <td>4</td>\n",
       "      <td>0</td>\n",
       "    </tr>\n",
       "    <tr>\n",
       "      <th>415</th>\n",
       "      <td>3</td>\n",
       "      <td>1</td>\n",
       "      <td>38.5</td>\n",
       "      <td>0</td>\n",
       "      <td>0</td>\n",
       "      <td>7.2500</td>\n",
       "      <td>1</td>\n",
       "      <td>1</td>\n",
       "      <td>4</td>\n",
       "      <td>0</td>\n",
       "    </tr>\n",
       "    <tr>\n",
       "      <th>416</th>\n",
       "      <td>3</td>\n",
       "      <td>1</td>\n",
       "      <td>33.0</td>\n",
       "      <td>0</td>\n",
       "      <td>0</td>\n",
       "      <td>8.0500</td>\n",
       "      <td>1</td>\n",
       "      <td>1</td>\n",
       "      <td>4</td>\n",
       "      <td>2</td>\n",
       "    </tr>\n",
       "    <tr>\n",
       "      <th>417</th>\n",
       "      <td>3</td>\n",
       "      <td>1</td>\n",
       "      <td>5.0</td>\n",
       "      <td>1</td>\n",
       "      <td>1</td>\n",
       "      <td>22.3583</td>\n",
       "      <td>2</td>\n",
       "      <td>2</td>\n",
       "      <td>1</td>\n",
       "      <td>2</td>\n",
       "    </tr>\n",
       "  </tbody>\n",
       "</table>\n",
       "<p>418 rows × 10 columns</p>\n",
       "</div>"
      ],
      "text/plain": [
       "     Pclass  Sex   Age  SibSp  Parch      Fare  Embarked  Initials  Age_Group  \\\n",
       "0         3    1  34.5      0      0    7.8292         3         1          4   \n",
       "1         3    0  47.0      1      0    7.0000         1         4          5   \n",
       "2         2    1  62.0      0      0    9.6875         3         1          7   \n",
       "3         3    1  27.0      0      0    8.6625         1         1          3   \n",
       "4         3    0  22.0      1      1   12.2875         1         4          3   \n",
       "..      ...  ...   ...    ...    ...       ...       ...       ...        ...   \n",
       "413       3    1  33.0      0      0    8.0500         1         1          4   \n",
       "414       1    0  39.0      0      0  108.9000         2         5          4   \n",
       "415       3    1  38.5      0      0    7.2500         1         1          4   \n",
       "416       3    1  33.0      0      0    8.0500         1         1          4   \n",
       "417       3    1   5.0      1      1   22.3583         2         2          1   \n",
       "\n",
       "     Total_family_size  \n",
       "0                    1  \n",
       "1                    1  \n",
       "2                    0  \n",
       "3                    1  \n",
       "4                    0  \n",
       "..                 ...  \n",
       "413                  0  \n",
       "414                  0  \n",
       "415                  0  \n",
       "416                  2  \n",
       "417                  2  \n",
       "\n",
       "[418 rows x 10 columns]"
      ]
     },
     "execution_count": 76,
     "metadata": {},
     "output_type": "execute_result"
    }
   ],
   "source": [
    "df_test"
   ]
  },
  {
   "cell_type": "code",
   "execution_count": 77,
   "id": "664f3389",
   "metadata": {},
   "outputs": [],
   "source": [
    "scaler = StandardScaler()\n",
    "df_test[['Age', 'SibSp', 'Parch', 'Fare', 'Age_Group', 'Total_family_size']] = scaler.fit_transform(\n",
    "    df_test[['Age', 'SibSp', 'Parch', 'Fare', 'Age_Group', 'Total_family_size']]\n",
    ")"
   ]
  },
  {
   "cell_type": "code",
   "execution_count": 78,
   "id": "21a8fc78",
   "metadata": {},
   "outputs": [
    {
     "data": {
      "text/html": [
       "<div>\n",
       "<style scoped>\n",
       "    .dataframe tbody tr th:only-of-type {\n",
       "        vertical-align: middle;\n",
       "    }\n",
       "\n",
       "    .dataframe tbody tr th {\n",
       "        vertical-align: top;\n",
       "    }\n",
       "\n",
       "    .dataframe thead th {\n",
       "        text-align: right;\n",
       "    }\n",
       "</style>\n",
       "<table border=\"1\" class=\"dataframe\">\n",
       "  <thead>\n",
       "    <tr style=\"text-align: right;\">\n",
       "      <th></th>\n",
       "      <th>Pclass</th>\n",
       "      <th>Sex</th>\n",
       "      <th>Age</th>\n",
       "      <th>SibSp</th>\n",
       "      <th>Parch</th>\n",
       "      <th>Fare</th>\n",
       "      <th>Embarked</th>\n",
       "      <th>Initials</th>\n",
       "      <th>Age_Group</th>\n",
       "      <th>Total_family_size</th>\n",
       "    </tr>\n",
       "  </thead>\n",
       "  <tbody>\n",
       "    <tr>\n",
       "      <th>0</th>\n",
       "      <td>3</td>\n",
       "      <td>1</td>\n",
       "      <td>0.326880</td>\n",
       "      <td>-0.499470</td>\n",
       "      <td>-0.400248</td>\n",
       "      <td>-0.498407</td>\n",
       "      <td>3</td>\n",
       "      <td>1</td>\n",
       "      <td>0.364427</td>\n",
       "      <td>0.016932</td>\n",
       "    </tr>\n",
       "    <tr>\n",
       "      <th>1</th>\n",
       "      <td>3</td>\n",
       "      <td>0</td>\n",
       "      <td>1.286672</td>\n",
       "      <td>0.616992</td>\n",
       "      <td>-0.400248</td>\n",
       "      <td>-0.513274</td>\n",
       "      <td>1</td>\n",
       "      <td>4</td>\n",
       "      <td>1.133771</td>\n",
       "      <td>0.016932</td>\n",
       "    </tr>\n",
       "    <tr>\n",
       "      <th>2</th>\n",
       "      <td>2</td>\n",
       "      <td>1</td>\n",
       "      <td>2.438422</td>\n",
       "      <td>-0.499470</td>\n",
       "      <td>-0.400248</td>\n",
       "      <td>-0.465088</td>\n",
       "      <td>3</td>\n",
       "      <td>1</td>\n",
       "      <td>2.672461</td>\n",
       "      <td>-0.572859</td>\n",
       "    </tr>\n",
       "    <tr>\n",
       "      <th>3</th>\n",
       "      <td>3</td>\n",
       "      <td>1</td>\n",
       "      <td>-0.248995</td>\n",
       "      <td>-0.499470</td>\n",
       "      <td>-0.400248</td>\n",
       "      <td>-0.483466</td>\n",
       "      <td>1</td>\n",
       "      <td>1</td>\n",
       "      <td>-0.404918</td>\n",
       "      <td>0.016932</td>\n",
       "    </tr>\n",
       "    <tr>\n",
       "      <th>4</th>\n",
       "      <td>3</td>\n",
       "      <td>0</td>\n",
       "      <td>-0.632912</td>\n",
       "      <td>0.616992</td>\n",
       "      <td>0.619896</td>\n",
       "      <td>-0.418471</td>\n",
       "      <td>1</td>\n",
       "      <td>4</td>\n",
       "      <td>-0.404918</td>\n",
       "      <td>-0.572859</td>\n",
       "    </tr>\n",
       "    <tr>\n",
       "      <th>...</th>\n",
       "      <td>...</td>\n",
       "      <td>...</td>\n",
       "      <td>...</td>\n",
       "      <td>...</td>\n",
       "      <td>...</td>\n",
       "      <td>...</td>\n",
       "      <td>...</td>\n",
       "      <td>...</td>\n",
       "      <td>...</td>\n",
       "      <td>...</td>\n",
       "    </tr>\n",
       "    <tr>\n",
       "      <th>413</th>\n",
       "      <td>3</td>\n",
       "      <td>1</td>\n",
       "      <td>0.211705</td>\n",
       "      <td>-0.499470</td>\n",
       "      <td>-0.400248</td>\n",
       "      <td>-0.494448</td>\n",
       "      <td>1</td>\n",
       "      <td>1</td>\n",
       "      <td>0.364427</td>\n",
       "      <td>-0.572859</td>\n",
       "    </tr>\n",
       "    <tr>\n",
       "      <th>414</th>\n",
       "      <td>1</td>\n",
       "      <td>0</td>\n",
       "      <td>0.672405</td>\n",
       "      <td>-0.499470</td>\n",
       "      <td>-0.400248</td>\n",
       "      <td>1.313753</td>\n",
       "      <td>2</td>\n",
       "      <td>5</td>\n",
       "      <td>0.364427</td>\n",
       "      <td>-0.572859</td>\n",
       "    </tr>\n",
       "    <tr>\n",
       "      <th>415</th>\n",
       "      <td>3</td>\n",
       "      <td>1</td>\n",
       "      <td>0.634014</td>\n",
       "      <td>-0.499470</td>\n",
       "      <td>-0.400248</td>\n",
       "      <td>-0.508792</td>\n",
       "      <td>1</td>\n",
       "      <td>1</td>\n",
       "      <td>0.364427</td>\n",
       "      <td>-0.572859</td>\n",
       "    </tr>\n",
       "    <tr>\n",
       "      <th>416</th>\n",
       "      <td>3</td>\n",
       "      <td>1</td>\n",
       "      <td>0.211705</td>\n",
       "      <td>-0.499470</td>\n",
       "      <td>-0.400248</td>\n",
       "      <td>-0.494448</td>\n",
       "      <td>1</td>\n",
       "      <td>1</td>\n",
       "      <td>0.364427</td>\n",
       "      <td>0.606723</td>\n",
       "    </tr>\n",
       "    <tr>\n",
       "      <th>417</th>\n",
       "      <td>3</td>\n",
       "      <td>1</td>\n",
       "      <td>-1.938228</td>\n",
       "      <td>0.616992</td>\n",
       "      <td>0.619896</td>\n",
       "      <td>-0.237906</td>\n",
       "      <td>2</td>\n",
       "      <td>2</td>\n",
       "      <td>-1.943608</td>\n",
       "      <td>0.606723</td>\n",
       "    </tr>\n",
       "  </tbody>\n",
       "</table>\n",
       "<p>418 rows × 10 columns</p>\n",
       "</div>"
      ],
      "text/plain": [
       "     Pclass  Sex       Age     SibSp     Parch      Fare  Embarked  Initials  \\\n",
       "0         3    1  0.326880 -0.499470 -0.400248 -0.498407         3         1   \n",
       "1         3    0  1.286672  0.616992 -0.400248 -0.513274         1         4   \n",
       "2         2    1  2.438422 -0.499470 -0.400248 -0.465088         3         1   \n",
       "3         3    1 -0.248995 -0.499470 -0.400248 -0.483466         1         1   \n",
       "4         3    0 -0.632912  0.616992  0.619896 -0.418471         1         4   \n",
       "..      ...  ...       ...       ...       ...       ...       ...       ...   \n",
       "413       3    1  0.211705 -0.499470 -0.400248 -0.494448         1         1   \n",
       "414       1    0  0.672405 -0.499470 -0.400248  1.313753         2         5   \n",
       "415       3    1  0.634014 -0.499470 -0.400248 -0.508792         1         1   \n",
       "416       3    1  0.211705 -0.499470 -0.400248 -0.494448         1         1   \n",
       "417       3    1 -1.938228  0.616992  0.619896 -0.237906         2         2   \n",
       "\n",
       "     Age_Group  Total_family_size  \n",
       "0     0.364427           0.016932  \n",
       "1     1.133771           0.016932  \n",
       "2     2.672461          -0.572859  \n",
       "3    -0.404918           0.016932  \n",
       "4    -0.404918          -0.572859  \n",
       "..         ...                ...  \n",
       "413   0.364427          -0.572859  \n",
       "414   0.364427          -0.572859  \n",
       "415   0.364427          -0.572859  \n",
       "416   0.364427           0.606723  \n",
       "417  -1.943608           0.606723  \n",
       "\n",
       "[418 rows x 10 columns]"
      ]
     },
     "execution_count": 78,
     "metadata": {},
     "output_type": "execute_result"
    }
   ],
   "source": [
    "df_test"
   ]
  },
  {
   "cell_type": "code",
   "execution_count": 79,
   "id": "eb884d61",
   "metadata": {},
   "outputs": [],
   "source": [
    "pred_lr = lr.predict(df_test)"
   ]
  },
  {
   "cell_type": "code",
   "execution_count": 80,
   "id": "7b2de2ca",
   "metadata": {},
   "outputs": [],
   "source": [
    "pred_svm = best_model_svm.predict(df_test)"
   ]
  },
  {
   "cell_type": "code",
   "execution_count": 81,
   "id": "b6188b23",
   "metadata": {},
   "outputs": [],
   "source": [
    "pred_rf = best_model_rf.predict(df_test)"
   ]
  },
  {
   "cell_type": "code",
   "execution_count": 82,
   "id": "7a253a58",
   "metadata": {},
   "outputs": [
    {
     "name": "stdout",
     "output_type": "stream",
     "text": [
      "14/14 [==============================] - 0s 1ms/step\n"
     ]
    }
   ],
   "source": [
    "pred_nn = nn_model.predict(df_test)\n",
    "pred_nn = (pred_nn > 0.5).astype(int)"
   ]
  },
  {
   "cell_type": "code",
   "execution_count": 83,
   "id": "017a969a",
   "metadata": {},
   "outputs": [],
   "source": [
    "predictions= {'lr':pred_lr,'svm':pred_svm,'rf':pred_rf,'nn':pred_nn}"
   ]
  },
  {
   "cell_type": "code",
   "execution_count": 84,
   "id": "11d8b4e3",
   "metadata": {},
   "outputs": [
    {
     "name": "stdout",
     "output_type": "stream",
     "text": [
      "     PassengerId  Survived\n",
      "0            892         0\n",
      "1            893         0\n",
      "2            894         0\n",
      "3            895         0\n",
      "4            896         1\n",
      "..           ...       ...\n",
      "413         1305         0\n",
      "414         1306         1\n",
      "415         1307         0\n",
      "416         1308         0\n",
      "417         1309         0\n",
      "\n",
      "[418 rows x 2 columns]\n",
      "     PassengerId  Survived\n",
      "0            892         0\n",
      "1            893         1\n",
      "2            894         0\n",
      "3            895         0\n",
      "4            896         1\n",
      "..           ...       ...\n",
      "413         1305         0\n",
      "414         1306         1\n",
      "415         1307         0\n",
      "416         1308         0\n",
      "417         1309         1\n",
      "\n",
      "[418 rows x 2 columns]\n",
      "     PassengerId  Survived\n",
      "0            892         0\n",
      "1            893         0\n",
      "2            894         0\n",
      "3            895         0\n",
      "4            896         1\n",
      "..           ...       ...\n",
      "413         1305         0\n",
      "414         1306         1\n",
      "415         1307         0\n",
      "416         1308         0\n",
      "417         1309         1\n",
      "\n",
      "[418 rows x 2 columns]\n",
      "     PassengerId  Survived\n",
      "0            892         0\n",
      "1            893         1\n",
      "2            894         0\n",
      "3            895         0\n",
      "4            896         1\n",
      "..           ...       ...\n",
      "413         1305         0\n",
      "414         1306         1\n",
      "415         1307         0\n",
      "416         1308         0\n",
      "417         1309         1\n",
      "\n",
      "[418 rows x 2 columns]\n"
     ]
    }
   ],
   "source": [
    "for key,value in predictions.items():\n",
    "    result = pd.DataFrame()\n",
    "    result['PassengerId'] = test.PassengerId \n",
    "    result['Survived'] = value\n",
    "    result.to_csv(f\"submission_{key}.csv\",index=False)\n",
    "    print (result)\n",
    "    result = 0"
   ]
  },
  {
   "cell_type": "code",
   "execution_count": null,
   "id": "954f7969",
   "metadata": {},
   "outputs": [],
   "source": []
  }
 ],
 "metadata": {
  "kernelspec": {
   "display_name": "Python 3 (ipykernel)",
   "language": "python",
   "name": "python3"
  },
  "language_info": {
   "codemirror_mode": {
    "name": "ipython",
    "version": 3
   },
   "file_extension": ".py",
   "mimetype": "text/x-python",
   "name": "python",
   "nbconvert_exporter": "python",
   "pygments_lexer": "ipython3",
   "version": "3.9.13"
  }
 },
 "nbformat": 4,
 "nbformat_minor": 5
}
